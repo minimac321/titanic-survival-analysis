{
 "cells": [
  {
   "cell_type": "markdown",
   "id": "50b2640f-d5f1-4c75-b5b8-a501f4d31884",
   "metadata": {},
   "source": [
    "# Titanic Survival Analysis"
   ]
  },
  {
   "cell_type": "markdown",
   "id": "5d923c5e-c279-4e6b-8ead-b61d7338aeae",
   "metadata": {},
   "source": [
    "In the early hours of the morning of 15 April 1912, the RMS Titanic sank on its maiden voyage across the Atlantic Ocean \n",
    "after it struck an iceberg. As part of an independent investigation into the tragedy, you are tasked with analysing the\n",
    "survival logs for passengers aboard the Titanic."
   ]
  },
  {
   "cell_type": "markdown",
   "id": "ec3cea40-8b46-4ca0-b9f7-bb4d84789fc8",
   "metadata": {},
   "source": [
    "The purpose of this notebook it to use machine learning to create a model that predicts which passengers survived the Titanic shipwreck.\n",
    "\n",
    "The components of this analysis will include:\n",
    "1. Exploritory Data Analysis\n",
    "2. Data Cleaning\n",
    "3. Data Modeling\n",
    "4. Data Prediction"
   ]
  },
  {
   "cell_type": "markdown",
   "id": "e7e6ca0f-ea52-4c0a-acbc-682b8b0d05b3",
   "metadata": {},
   "source": [
    "## Dataset Description"
   ]
  },
  {
   "cell_type": "markdown",
   "id": "c7d7322b-7094-4986-abad-82fafe5100e1",
   "metadata": {},
   "source": [
    "We have a training and test csv.\n",
    "\n",
    "For the training set, we have the ground truth of whether each passenger survivors. \n",
    "The test set should be used to see how well your model performs on unseen data."
   ]
  },
  {
   "cell_type": "markdown",
   "id": "e77e7d44-faf0-46d0-a74c-66731d59abd4",
   "metadata": {},
   "source": [
    "\n",
    "| Variable | Definition | Description |\n",
    "| --- | --- | --- |\n",
    "| survival | Survival | 0 = No, 1 = Yes |\n",
    "| pclass | Ticket class (proxy for socio-economic status) | 1 = Upper, 2 = Middle, 3 = Lower |\n",
    "| sex | Sex of Passemger | male/female |\n",
    "| Age | Age in years | Integer (Example: 25) |\n",
    "| sibsp | # of siblings / spouses aboard the Titanic | Integer (Example: 2) |\n",
    "| parch | # of parents / children aboard the Titanic | Integer (Example: 1) |\n",
    "| ticket | Ticket number | Str (Example: \"SC/Paris 2123\") |\n",
    "| fare | Passenger fare | Float (Example: 41.5792)|\n",
    "| cabin | Cabin number | Str (Example: \"B78\")|\n",
    "| embarked | Port of Embarkation | C = Cherbourg, Q = Queenstown, S = Southampton |"
   ]
  },
  {
   "cell_type": "markdown",
   "id": "ee2f3133-e99e-45bf-9984-6b80a0ab18e6",
   "metadata": {},
   "source": [
    "### Additional Notes\n",
    "\n",
    "**pclass**: A proxy for socio-economic status (SES)\n",
    "1st = Upper\n",
    "2nd = Middle\n",
    "3rd = Lower\n",
    "\n",
    "**age**: Age is fractional if less than 1. If the age is estimated, is it in the form of xx.5\n",
    "\n",
    "**sibsp**: The dataset defines family relations in this way...\n",
    "Sibling = brother, sister, stepbrother, stepsister\n",
    "Spouse = husband, wife (mistresses and fiancés were ignored)\n",
    "\n",
    "**parch**: The dataset defines family relations in this way..\\n\n",
    "Parent = mother, father\n",
    "Child = daughter, son, stepdaughter, stepson\n",
    "Some children travelled only with a nanny, therefore parch=0 for them."
   ]
  },
  {
   "cell_type": "code",
   "execution_count": 1,
   "id": "8454f215-9510-4a84-9604-abcfe8cff277",
   "metadata": {},
   "outputs": [],
   "source": [
    "# Imports\n",
    "import os\n",
    "\n",
    "import numpy as np\n",
    "import pandas as pd\n",
    "import seaborn as sns\n",
    "import matplotlib.pyplot as plt\n",
    "import scipy.stats\n",
    "\n",
    "import xgboost as xg\n",
    "import statsmodels.api as sm\n",
    "from statsmodels.formula.api import ols\n",
    "from sklearn.metrics import mean_squared_error"
   ]
  },
  {
   "cell_type": "markdown",
   "id": "08c244df-6800-44e6-8a44-5418d2f86789",
   "metadata": {},
   "source": [
    "### Load in the data"
   ]
  },
  {
   "cell_type": "code",
   "execution_count": 2,
   "id": "0d34d873-e2ba-41ed-b160-d28129e24398",
   "metadata": {},
   "outputs": [
    {
     "name": "stdout",
     "output_type": "stream",
     "text": [
      "Train df: (891, 12)\n",
      "\n"
     ]
    },
    {
     "data": {
      "text/html": [
       "<div>\n",
       "<style scoped>\n",
       "    .dataframe tbody tr th:only-of-type {\n",
       "        vertical-align: middle;\n",
       "    }\n",
       "\n",
       "    .dataframe tbody tr th {\n",
       "        vertical-align: top;\n",
       "    }\n",
       "\n",
       "    .dataframe thead th {\n",
       "        text-align: right;\n",
       "    }\n",
       "</style>\n",
       "<table border=\"1\" class=\"dataframe\">\n",
       "  <thead>\n",
       "    <tr style=\"text-align: right;\">\n",
       "      <th></th>\n",
       "      <th>PassengerId</th>\n",
       "      <th>Survived</th>\n",
       "      <th>Pclass</th>\n",
       "      <th>Name</th>\n",
       "      <th>Sex</th>\n",
       "      <th>Age</th>\n",
       "      <th>SibSp</th>\n",
       "      <th>Parch</th>\n",
       "      <th>Ticket</th>\n",
       "      <th>Fare</th>\n",
       "      <th>Cabin</th>\n",
       "      <th>Embarked</th>\n",
       "    </tr>\n",
       "  </thead>\n",
       "  <tbody>\n",
       "    <tr>\n",
       "      <th>0</th>\n",
       "      <td>1</td>\n",
       "      <td>0</td>\n",
       "      <td>3</td>\n",
       "      <td>Braund, Mr. Owen Harris</td>\n",
       "      <td>male</td>\n",
       "      <td>22.0</td>\n",
       "      <td>1</td>\n",
       "      <td>0</td>\n",
       "      <td>A/5 21171</td>\n",
       "      <td>7.2500</td>\n",
       "      <td>NaN</td>\n",
       "      <td>S</td>\n",
       "    </tr>\n",
       "    <tr>\n",
       "      <th>1</th>\n",
       "      <td>2</td>\n",
       "      <td>1</td>\n",
       "      <td>1</td>\n",
       "      <td>Cumings, Mrs. John Bradley (Florence Briggs Th...</td>\n",
       "      <td>female</td>\n",
       "      <td>38.0</td>\n",
       "      <td>1</td>\n",
       "      <td>0</td>\n",
       "      <td>PC 17599</td>\n",
       "      <td>71.2833</td>\n",
       "      <td>C85</td>\n",
       "      <td>C</td>\n",
       "    </tr>\n",
       "    <tr>\n",
       "      <th>2</th>\n",
       "      <td>3</td>\n",
       "      <td>1</td>\n",
       "      <td>3</td>\n",
       "      <td>Heikkinen, Miss. Laina</td>\n",
       "      <td>female</td>\n",
       "      <td>26.0</td>\n",
       "      <td>0</td>\n",
       "      <td>0</td>\n",
       "      <td>STON/O2. 3101282</td>\n",
       "      <td>7.9250</td>\n",
       "      <td>NaN</td>\n",
       "      <td>S</td>\n",
       "    </tr>\n",
       "    <tr>\n",
       "      <th>3</th>\n",
       "      <td>4</td>\n",
       "      <td>1</td>\n",
       "      <td>1</td>\n",
       "      <td>Futrelle, Mrs. Jacques Heath (Lily May Peel)</td>\n",
       "      <td>female</td>\n",
       "      <td>35.0</td>\n",
       "      <td>1</td>\n",
       "      <td>0</td>\n",
       "      <td>113803</td>\n",
       "      <td>53.1000</td>\n",
       "      <td>C123</td>\n",
       "      <td>S</td>\n",
       "    </tr>\n",
       "    <tr>\n",
       "      <th>4</th>\n",
       "      <td>5</td>\n",
       "      <td>0</td>\n",
       "      <td>3</td>\n",
       "      <td>Allen, Mr. William Henry</td>\n",
       "      <td>male</td>\n",
       "      <td>35.0</td>\n",
       "      <td>0</td>\n",
       "      <td>0</td>\n",
       "      <td>373450</td>\n",
       "      <td>8.0500</td>\n",
       "      <td>NaN</td>\n",
       "      <td>S</td>\n",
       "    </tr>\n",
       "  </tbody>\n",
       "</table>\n",
       "</div>"
      ],
      "text/plain": [
       "   PassengerId  Survived  Pclass  \\\n",
       "0            1         0       3   \n",
       "1            2         1       1   \n",
       "2            3         1       3   \n",
       "3            4         1       1   \n",
       "4            5         0       3   \n",
       "\n",
       "                                                Name     Sex   Age  SibSp  \\\n",
       "0                            Braund, Mr. Owen Harris    male  22.0      1   \n",
       "1  Cumings, Mrs. John Bradley (Florence Briggs Th...  female  38.0      1   \n",
       "2                             Heikkinen, Miss. Laina  female  26.0      0   \n",
       "3       Futrelle, Mrs. Jacques Heath (Lily May Peel)  female  35.0      1   \n",
       "4                           Allen, Mr. William Henry    male  35.0      0   \n",
       "\n",
       "   Parch            Ticket     Fare Cabin Embarked  \n",
       "0      0         A/5 21171   7.2500   NaN        S  \n",
       "1      0          PC 17599  71.2833   C85        C  \n",
       "2      0  STON/O2. 3101282   7.9250   NaN        S  \n",
       "3      0            113803  53.1000  C123        S  \n",
       "4      0            373450   8.0500   NaN        S  "
      ]
     },
     "execution_count": 2,
     "metadata": {},
     "output_type": "execute_result"
    }
   ],
   "source": [
    "# Survived\n",
    "data_dir = \"data\"\n",
    "train_path = os.path.join(data_dir, \"train.csv\")\n",
    "\n",
    "train_df = pd.read_csv(train_path)\n",
    "print(f\"Train df: {train_df.shape}\\n\")\n",
    "train_df.head()"
   ]
  },
  {
   "cell_type": "code",
   "execution_count": 3,
   "id": "5968a664-b0dd-49bb-b88c-66227b80fb4e",
   "metadata": {},
   "outputs": [
    {
     "name": "stdout",
     "output_type": "stream",
     "text": [
      "<class 'pandas.core.frame.DataFrame'>\n",
      "RangeIndex: 891 entries, 0 to 890\n",
      "Data columns (total 12 columns):\n",
      " #   Column       Non-Null Count  Dtype  \n",
      "---  ------       --------------  -----  \n",
      " 0   PassengerId  891 non-null    int64  \n",
      " 1   Survived     891 non-null    int64  \n",
      " 2   Pclass       891 non-null    int64  \n",
      " 3   Name         891 non-null    object \n",
      " 4   Sex          891 non-null    object \n",
      " 5   Age          714 non-null    float64\n",
      " 6   SibSp        891 non-null    int64  \n",
      " 7   Parch        891 non-null    int64  \n",
      " 8   Ticket       891 non-null    object \n",
      " 9   Fare         891 non-null    float64\n",
      " 10  Cabin        204 non-null    object \n",
      " 11  Embarked     889 non-null    object \n",
      "dtypes: float64(2), int64(5), object(5)\n",
      "memory usage: 83.7+ KB\n"
     ]
    }
   ],
   "source": [
    "train_df.info()"
   ]
  },
  {
   "cell_type": "code",
   "execution_count": 4,
   "id": "83f74f60-745e-4443-81f6-a7b4af465587",
   "metadata": {},
   "outputs": [
    {
     "name": "stdout",
     "output_type": "stream",
     "text": [
      "Test df: (418, 11)\n",
      "\n"
     ]
    },
    {
     "data": {
      "text/html": [
       "<div>\n",
       "<style scoped>\n",
       "    .dataframe tbody tr th:only-of-type {\n",
       "        vertical-align: middle;\n",
       "    }\n",
       "\n",
       "    .dataframe tbody tr th {\n",
       "        vertical-align: top;\n",
       "    }\n",
       "\n",
       "    .dataframe thead th {\n",
       "        text-align: right;\n",
       "    }\n",
       "</style>\n",
       "<table border=\"1\" class=\"dataframe\">\n",
       "  <thead>\n",
       "    <tr style=\"text-align: right;\">\n",
       "      <th></th>\n",
       "      <th>PassengerId</th>\n",
       "      <th>Pclass</th>\n",
       "      <th>Name</th>\n",
       "      <th>Sex</th>\n",
       "      <th>Age</th>\n",
       "      <th>SibSp</th>\n",
       "      <th>Parch</th>\n",
       "      <th>Ticket</th>\n",
       "      <th>Fare</th>\n",
       "      <th>Cabin</th>\n",
       "      <th>Embarked</th>\n",
       "    </tr>\n",
       "  </thead>\n",
       "  <tbody>\n",
       "    <tr>\n",
       "      <th>0</th>\n",
       "      <td>892</td>\n",
       "      <td>3</td>\n",
       "      <td>Kelly, Mr. James</td>\n",
       "      <td>male</td>\n",
       "      <td>34.5</td>\n",
       "      <td>0</td>\n",
       "      <td>0</td>\n",
       "      <td>330911</td>\n",
       "      <td>7.8292</td>\n",
       "      <td>NaN</td>\n",
       "      <td>Q</td>\n",
       "    </tr>\n",
       "    <tr>\n",
       "      <th>1</th>\n",
       "      <td>893</td>\n",
       "      <td>3</td>\n",
       "      <td>Wilkes, Mrs. James (Ellen Needs)</td>\n",
       "      <td>female</td>\n",
       "      <td>47.0</td>\n",
       "      <td>1</td>\n",
       "      <td>0</td>\n",
       "      <td>363272</td>\n",
       "      <td>7.0000</td>\n",
       "      <td>NaN</td>\n",
       "      <td>S</td>\n",
       "    </tr>\n",
       "    <tr>\n",
       "      <th>2</th>\n",
       "      <td>894</td>\n",
       "      <td>2</td>\n",
       "      <td>Myles, Mr. Thomas Francis</td>\n",
       "      <td>male</td>\n",
       "      <td>62.0</td>\n",
       "      <td>0</td>\n",
       "      <td>0</td>\n",
       "      <td>240276</td>\n",
       "      <td>9.6875</td>\n",
       "      <td>NaN</td>\n",
       "      <td>Q</td>\n",
       "    </tr>\n",
       "    <tr>\n",
       "      <th>3</th>\n",
       "      <td>895</td>\n",
       "      <td>3</td>\n",
       "      <td>Wirz, Mr. Albert</td>\n",
       "      <td>male</td>\n",
       "      <td>27.0</td>\n",
       "      <td>0</td>\n",
       "      <td>0</td>\n",
       "      <td>315154</td>\n",
       "      <td>8.6625</td>\n",
       "      <td>NaN</td>\n",
       "      <td>S</td>\n",
       "    </tr>\n",
       "    <tr>\n",
       "      <th>4</th>\n",
       "      <td>896</td>\n",
       "      <td>3</td>\n",
       "      <td>Hirvonen, Mrs. Alexander (Helga E Lindqvist)</td>\n",
       "      <td>female</td>\n",
       "      <td>22.0</td>\n",
       "      <td>1</td>\n",
       "      <td>1</td>\n",
       "      <td>3101298</td>\n",
       "      <td>12.2875</td>\n",
       "      <td>NaN</td>\n",
       "      <td>S</td>\n",
       "    </tr>\n",
       "  </tbody>\n",
       "</table>\n",
       "</div>"
      ],
      "text/plain": [
       "   PassengerId  Pclass                                          Name     Sex  \\\n",
       "0          892       3                              Kelly, Mr. James    male   \n",
       "1          893       3              Wilkes, Mrs. James (Ellen Needs)  female   \n",
       "2          894       2                     Myles, Mr. Thomas Francis    male   \n",
       "3          895       3                              Wirz, Mr. Albert    male   \n",
       "4          896       3  Hirvonen, Mrs. Alexander (Helga E Lindqvist)  female   \n",
       "\n",
       "    Age  SibSp  Parch   Ticket     Fare Cabin Embarked  \n",
       "0  34.5      0      0   330911   7.8292   NaN        Q  \n",
       "1  47.0      1      0   363272   7.0000   NaN        S  \n",
       "2  62.0      0      0   240276   9.6875   NaN        Q  \n",
       "3  27.0      0      0   315154   8.6625   NaN        S  \n",
       "4  22.0      1      1  3101298  12.2875   NaN        S  "
      ]
     },
     "execution_count": 4,
     "metadata": {},
     "output_type": "execute_result"
    }
   ],
   "source": [
    "test_path = os.path.join(data_dir, \"test.csv\")\n",
    "\n",
    "test_df = pd.read_csv(test_path)\n",
    "print(f\"Test df: {test_df.shape}\\n\")\n",
    "test_df.head()"
   ]
  },
  {
   "cell_type": "code",
   "execution_count": 5,
   "id": "09fa1268-eb95-4406-902b-3f5c28186e92",
   "metadata": {},
   "outputs": [
    {
     "name": "stdout",
     "output_type": "stream",
     "text": [
      "<class 'pandas.core.frame.DataFrame'>\n",
      "RangeIndex: 418 entries, 0 to 417\n",
      "Data columns (total 11 columns):\n",
      " #   Column       Non-Null Count  Dtype  \n",
      "---  ------       --------------  -----  \n",
      " 0   PassengerId  418 non-null    int64  \n",
      " 1   Pclass       418 non-null    int64  \n",
      " 2   Name         418 non-null    object \n",
      " 3   Sex          418 non-null    object \n",
      " 4   Age          332 non-null    float64\n",
      " 5   SibSp        418 non-null    int64  \n",
      " 6   Parch        418 non-null    int64  \n",
      " 7   Ticket       418 non-null    object \n",
      " 8   Fare         417 non-null    float64\n",
      " 9   Cabin        91 non-null     object \n",
      " 10  Embarked     418 non-null    object \n",
      "dtypes: float64(2), int64(4), object(5)\n",
      "memory usage: 36.0+ KB\n"
     ]
    }
   ],
   "source": [
    "test_df.info()"
   ]
  },
  {
   "cell_type": "code",
   "execution_count": 6,
   "id": "e910cc0b-5072-4a09-a7f7-2e9c663f0a9d",
   "metadata": {},
   "outputs": [
    {
     "name": "stdout",
     "output_type": "stream",
     "text": [
      "Train split: 68%\n",
      "Test split:  32%\n"
     ]
    }
   ],
   "source": [
    "total_data = len(test_df) + len(train_df)\n",
    "print(f\"Train split: {len(train_df)/total_data*100:.0f}%\")\n",
    "print(f\"Test split:  {len(test_df)/total_data*100:.0f}%\")"
   ]
  },
  {
   "cell_type": "markdown",
   "id": "2c1dbaeb-838b-4a48-bf89-b07f8f11a38a",
   "metadata": {
    "tags": []
   },
   "source": [
    "## 1. Expoloritory Data Analysis"
   ]
  },
  {
   "cell_type": "markdown",
   "id": "1cf8d38b-a26b-4338-9503-363b379f4753",
   "metadata": {},
   "source": [
    "### 1.1 Univarient Analysis"
   ]
  },
  {
   "cell_type": "code",
   "execution_count": 7,
   "id": "76ce764c-d223-453f-b854-dd7df8ec2c59",
   "metadata": {},
   "outputs": [
    {
     "data": {
      "image/png": "[encoded data removed]",
      "text/plain": [
       "<Figure size 1080x720 with 9 Axes>"
      ]
     },
     "metadata": {
      "needs_background": "light"
     },
     "output_type": "display_data"
    }
   ],
   "source": [
    "# Univarient Analysis\n",
    "\n",
    "fig, axs = plt.subplots(3, 3, figsize=(15, 10))\n",
    "\n",
    "sns.histplot(data=train_df, x=\"Sex\", kde=False, color=\"lightblue\", ax=axs[0, 0])\n",
    "sns.histplot(data=train_df, x=\"SibSp\", kde=False, color=\"red\", ax=axs[0, 1])\n",
    "sns.histplot(data=train_df, x=\"Parch\", kde=False, color=\"green\", ax=axs[0, 2])\n",
    "sns.histplot(data=train_df, x=\"Fare\", kde=True, color=\"black\", ax=axs[1, 0])\n",
    "sns.histplot(data=train_df, x=\"Embarked\", kde=False, color=\"yellow\", ax=axs[1, 1])\n",
    "sns.histplot(data=train_df, x=\"Age\", kde=True, color=\"teal\", ax=axs[1, 2])\n",
    "sns.histplot(data=train_df, x=\"Pclass\", kde=False, color=\"orange\", ax=axs[2, 0])\n",
    "\n",
    "plt.suptitle(\"Univariant Training Plots\")\n",
    "plt.tight_layout()\n",
    "plt.show()"
   ]
  },
  {
   "cell_type": "code",
   "execution_count": 8,
   "id": "cfc76164-d87d-410b-8a73-03f79a3a2c73",
   "metadata": {},
   "outputs": [
    {
     "name": "stdout",
     "output_type": "stream",
     "text": [
      "Average age of a male passenger: 31.0\n",
      "Average age of a female passenger: 28.0\n"
     ]
    }
   ],
   "source": [
    "for var in list(train_df[\"Sex\"].unique()):\n",
    "    avg_age = train_df[train_df['Sex']==var]['Age'].mean().round(0)\n",
    "    print(f\"Average age of a {var} passenger:\",avg_age)"
   ]
  },
  {
   "cell_type": "code",
   "execution_count": 9,
   "id": "c66131fa-ea14-420f-9418-6188adf1d2ea",
   "metadata": {},
   "outputs": [
    {
     "data": {
      "text/plain": [
       "Text(0.5, 1.05, 'Bar Chart of Survival Rate grouped by Sex')"
      ]
     },
     "execution_count": 9,
     "metadata": {},
     "output_type": "execute_result"
    },
    {
     "data": {
      "image/png": "[encoded data removed]",
      "text/plain": [
       "<Figure size 360x360 with 1 Axes>"
      ]
     },
     "metadata": {
      "needs_background": "light"
     },
     "output_type": "display_data"
    }
   ],
   "source": [
    "g = sns.catplot(data=train_df, x=\"Sex\", y=\"Survived\", kind=\"bar\")\n",
    "g.fig.suptitle(\"Bar Chart of Survival Rate grouped by Sex\", y=1.05)"
   ]
  },
  {
   "cell_type": "markdown",
   "id": "3a091a8b-86f7-412c-8930-84e72e98a09f",
   "metadata": {},
   "source": [
    "#### Observations\n",
    "- 2 Thirds more Males then females\n",
    "- 3 extremely large fare price of 512 dollars. These are owned by first class citizens and are luxury suites.\n",
    "- Children who are younger than 1 have a fraction as their age - round to an integer \n",
    "- Most people embarked from Southampton\n",
    "- Third class passengers make up half of the people on-board and there are more first class passengers compared to second class\n",
    "- 20% of all males did not survive"
   ]
  },
  {
   "cell_type": "markdown",
   "id": "cc9ae1f9-7273-4104-9fb7-49a882188232",
   "metadata": {},
   "source": [
    "### 1.2 Multivariate Analysis"
   ]
  },
  {
   "cell_type": "code",
   "execution_count": 10,
   "id": "1842ca03-95fe-4b32-975c-5098a8dda0ad",
   "metadata": {},
   "outputs": [
    {
     "data": {
      "text/plain": [
       "Text(0.5, 1.05, 'Bar Chart of Survival Rate vs Class grouped by Sex')"
      ]
     },
     "execution_count": 10,
     "metadata": {},
     "output_type": "execute_result"
    },
    {
     "data": {
      "image/png": "[encoded data removed]",
      "text/plain": [
       "<Figure size 720x432 with 2 Axes>"
      ]
     },
     "metadata": {
      "needs_background": "light"
     },
     "output_type": "display_data"
    }
   ],
   "source": [
    "g = sns.catplot(\n",
    "    data=train_df, x=\"Pclass\", y=\"Survived\", col=\"Sex\",\n",
    "    kind=\"bar\", height=4, aspect=.6,\n",
    ")\n",
    "g.fig.set_size_inches(10,6)\n",
    "g.set_axis_labels(\"\", \"Survival Rate\")\n",
    "g.set_xticklabels([\"First Class\", \"Second Class\", \"Third Class\"])\n",
    "g.set_titles(\"{col_var} : {col_name}\")\n",
    "g.fig.suptitle(\"Bar Chart of Survival Rate vs Class grouped by Sex\", y=1.05)"
   ]
  },
  {
   "cell_type": "markdown",
   "id": "4d46936f-9101-4dd8-a2ce-9a26ca6da920",
   "metadata": {},
   "source": [
    "## Observations\n",
    "- More than 90%  of First and Second class feamles survived. Only 50% of females from thrid class survived.\n",
    "- We see similair proportions of 50% smaller survival rates for second and third class when compared to first class."
   ]
  },
  {
   "cell_type": "code",
   "execution_count": 11,
   "id": "7909b7a2-07ac-4fbf-bf1e-a05b4baaf2dc",
   "metadata": {},
   "outputs": [
    {
     "data": {
      "image/png": "[encoded data removed]",
      "text/plain": [
       "<Figure size 720x720 with 3 Axes>"
      ]
     },
     "metadata": {
      "needs_background": "light"
     },
     "output_type": "display_data"
    }
   ],
   "source": [
    "g = sns.catplot(\n",
    "    data=train_df,\n",
    "    x=\"Fare\", y=\"Embarked\",\n",
    "    row=\"Pclass\",\n",
    "    kind=\"box\", \n",
    "    orient=\"h\",\n",
    "    sharex=False, margin_titles=True,\n",
    "    height=1.5, aspect=4,\n",
    ")\n",
    "g.set(xlabel=\"Fare\", ylabel=\"\")\n",
    "g.fig.set_size_inches(10,10)\n",
    "g.set_titles(row_template=\"Class: {row_name}\")\n",
    "for ax in g.axes.flat:\n",
    "    ax.xaxis.set_major_formatter('${x:.0f}')\n",
    "    \n",
    "g.fig.suptitle(\"Box plot of Fare prices vs Embarked grouped by Class\", y=1.05)\n",
    "plt.tight_layout()"
   ]
  },
  {
   "cell_type": "markdown",
   "id": "8be8c206-1050-4d14-8816-0300fb781096",
   "metadata": {},
   "source": [
    "## 2. Data Cleaning"
   ]
  },
  {
   "cell_type": "code",
   "execution_count": 12,
   "id": "3af688da-42ff-4a99-be00-08273d89f195",
   "metadata": {},
   "outputs": [],
   "source": [
    "# Correct all young childrens age to 1 year old instead of having a fraction\n",
    "train_df.loc[train_df[\"Age\"] < 1, \"Age\"] = 1"
   ]
  },
  {
   "cell_type": "code",
   "execution_count": 13,
   "id": "939961c1-10c3-4a8d-ae64-ffe09f819088",
   "metadata": {},
   "outputs": [
    {
     "name": "stdout",
     "output_type": "stream",
     "text": [
      "Perentage of data null (out of 891 rows):\n"
     ]
    },
    {
     "data": {
      "text/plain": [
       "PassengerId     0.000000\n",
       "Survived        0.000000\n",
       "Pclass          0.000000\n",
       "Name            0.000000\n",
       "Sex             0.000000\n",
       "Age            19.865320\n",
       "SibSp           0.000000\n",
       "Parch           0.000000\n",
       "Ticket          0.000000\n",
       "Fare            0.000000\n",
       "Cabin          77.104377\n",
       "Embarked        0.224467\n",
       "dtype: float64"
      ]
     },
     "execution_count": 13,
     "metadata": {},
     "output_type": "execute_result"
    }
   ],
   "source": [
    "print(f\"Perentage of data null (out of {train_df.shape[0]} rows):\")\n",
    "train_df.isnull().sum() / train_df.shape[0] * 100"
   ]
  },
  {
   "cell_type": "markdown",
   "id": "634a1931-bd01-439e-957a-b3e24ed3b9bd",
   "metadata": {},
   "source": [
    "# Nul Data Result (Do for test as well)\n",
    "**Cabin (~77%)**\n",
    "We see that 77% of Cabin feature is Null. Consider removing the column completely\n",
    "\n",
    "**Age (~20%)**\n",
    "We see that the continious variable age is missing 20% of its data. Options:\n",
    "- Create a model which can predict age using (possibly using [Sex, SibSp, Parch])\n",
    "- We could just apply the mean age of male or female\n",
    "\n",
    "**Embarked (>1%)**\n",
    "- Since this is such a small proportion of the data we can just fill with an aggregate metric (mean) "
   ]
  },
  {
   "cell_type": "code",
   "execution_count": 14,
   "id": "5383466a-4337-4f86-85fe-10b486ab6118",
   "metadata": {},
   "outputs": [],
   "source": [
    "# Remove Cabin\n",
    "\n",
    "train_df.drop(columns=\"Cabin\", inplace=True, errors='ignore')\n",
    "assert \"Cabin\" not in train_df.columns\n",
    "\n",
    "test_df.drop(columns=\"Cabin\", inplace=True, errors='ignore')\n",
    "assert \"Cabin\" not in test_df.columns"
   ]
  },
  {
   "cell_type": "code",
   "execution_count": 15,
   "id": "67d283e8-7d41-42f5-8e64-c186017f3270",
   "metadata": {},
   "outputs": [
    {
     "data": {
      "text/plain": [
       "<AxesSubplot:xlabel='Embarked', ylabel='Count'>"
      ]
     },
     "execution_count": 15,
     "metadata": {},
     "output_type": "execute_result"
    },
    {
     "data": {
      "image/png": "[encoded data removed]",
      "text/plain": [
       "<Figure size 432x288 with 1 Axes>"
      ]
     },
     "metadata": {
      "needs_background": "light"
     },
     "output_type": "display_data"
    }
   ],
   "source": [
    "# Fill Embarged with Aggregate\n",
    "\n",
    "sns.histplot(data=train_df, x=\"Embarked\", kde=False, color=\"darkblue\")"
   ]
  },
  {
   "cell_type": "code",
   "execution_count": 16,
   "id": "46e2af1d-901b-4d12-9af1-8cb10212e1d7",
   "metadata": {},
   "outputs": [],
   "source": [
    "train_df[\"Embarked\"].fillna(value=\"S\", inplace=True)\n",
    "test_df[\"Embarked\"].fillna(value=\"S\", inplace=True)"
   ]
  },
  {
   "cell_type": "code",
   "execution_count": 17,
   "id": "f0a616b4-fc8f-4345-ba5e-cd9e89cf31d1",
   "metadata": {},
   "outputs": [
    {
     "data": {
      "text/plain": [
       "(0, 0)"
      ]
     },
     "execution_count": 17,
     "metadata": {},
     "output_type": "execute_result"
    }
   ],
   "source": [
    "train_df[\"Embarked\"].isnull().sum(), test_df[\"Embarked\"].isnull().sum()"
   ]
  },
  {
   "cell_type": "markdown",
   "id": "665c24ea-4b8b-4105-ab4c-b69572285543",
   "metadata": {},
   "source": [
    "### Predict Age (Sub-prediction task)\n",
    "\n",
    "Note: We should not use or test data to infer this - but instead create a validation set for tuning this model\n",
    "\n",
    "Look at most correlated features to base the prediction off"
   ]
  },
  {
   "cell_type": "code",
   "execution_count": 18,
   "id": "d785c87e-8b34-4039-a1a3-efa606ef5717",
   "metadata": {},
   "outputs": [],
   "source": [
    "# Drop passenger-id\n",
    "continious_train_df = train_df.drop(columns=\"PassengerId\")\n",
    "# Convert Sex to continious data type\n",
    "sex_cts_dict = {\n",
    "    'male': 0,\n",
    "    'female': 1\n",
    "}\n",
    "continious_train_df[\"Sex\"] = continious_train_df[\"Sex\"].apply(lambda x: sex_cts_dict[x])\n",
    "\n",
    "# Convert Embarked to continious data type\n",
    "embarked_cts_dict = {\n",
    "    'S': 0,\n",
    "    'C': 1,\n",
    "    'Q': 2\n",
    "}\n",
    "continious_train_df[\"Embarked\"] = train_df[\"Embarked\"].apply(lambda x: embarked_cts_dict[x])"
   ]
  },
  {
   "cell_type": "code",
   "execution_count": 19,
   "id": "85e242b3-c454-487a-aeea-3fb6480ee2d6",
   "metadata": {},
   "outputs": [
    {
     "data": {
      "image/png": "[encoded data removed]",
      "text/plain": [
       "<Figure size 720x576 with 2 Axes>"
      ]
     },
     "metadata": {
      "needs_background": "light"
     },
     "output_type": "display_data"
    }
   ],
   "source": [
    "# creating mask\n",
    "mask = np.triu(np.ones_like(continious_train_df.corr()))\n",
    "mask[np.diag_indices_from(mask)] = False\n",
    "\n",
    "fig, ax = plt.subplots(figsize=(10, 8))\n",
    "\n",
    "# plotting correlation heatmap\n",
    "a = sns.heatmap(\n",
    "    continious_train_df.corr(), cmap=\"YlGnBu\", annot=True, mask=mask, ax=ax,\n",
    "    annot_kws= {'fontsize': 12, 'fontweight': 'bold'}\n",
    "\n",
    ")\n",
    "plt.show()"
   ]
  },
  {
   "cell_type": "markdown",
   "id": "9db4f243-0373-4f29-bf03-fe3bfb1e9b79",
   "metadata": {},
   "source": [
    "**Results**\n",
    "This correlation heatmap shows us that their are no singular standout features which has a high correlation to Age. Pclass and SibSp do have a moderate negative correlation of -0.37 and -0.31 respectively. Perhaps we need to investigate how interaction terms may play a role in this data.\n",
    "\n",
    "Note: Sex has a correlation of 0.54 which supports the data showing that males have "
   ]
  },
  {
   "cell_type": "markdown",
   "id": "4485f3f0-57cf-47c9-bc82-2c6b3c6fd2e2",
   "metadata": {},
   "source": [
    "### Using a Ordinary Least Squares Model identify which feature explain Age"
   ]
  },
  {
   "cell_type": "code",
   "execution_count": 20,
   "id": "9dc427c1-5bf8-4c21-8439-41f9d9cb8bc6",
   "metadata": {},
   "outputs": [
    {
     "data": {
      "text/html": [
       "<div>\n",
       "<style scoped>\n",
       "    .dataframe tbody tr th:only-of-type {\n",
       "        vertical-align: middle;\n",
       "    }\n",
       "\n",
       "    .dataframe tbody tr th {\n",
       "        vertical-align: top;\n",
       "    }\n",
       "\n",
       "    .dataframe thead th {\n",
       "        text-align: right;\n",
       "    }\n",
       "</style>\n",
       "<table border=\"1\" class=\"dataframe\">\n",
       "  <thead>\n",
       "    <tr style=\"text-align: right;\">\n",
       "      <th></th>\n",
       "      <th>df</th>\n",
       "      <th>sum_sq</th>\n",
       "      <th>mean_sq</th>\n",
       "      <th>F</th>\n",
       "      <th>PR(&gt;F)</th>\n",
       "    </tr>\n",
       "  </thead>\n",
       "  <tbody>\n",
       "    <tr>\n",
       "      <th>Sex</th>\n",
       "      <td>1.0</td>\n",
       "      <td>1309.355436</td>\n",
       "      <td>1309.355436</td>\n",
       "      <td>8.063982</td>\n",
       "      <td>4.645287e-03</td>\n",
       "    </tr>\n",
       "    <tr>\n",
       "      <th>Pclass</th>\n",
       "      <td>1.0</td>\n",
       "      <td>22695.333937</td>\n",
       "      <td>22695.333937</td>\n",
       "      <td>139.774706</td>\n",
       "      <td>1.487321e-29</td>\n",
       "    </tr>\n",
       "    <tr>\n",
       "      <th>Sex:Pclass</th>\n",
       "      <td>1.0</td>\n",
       "      <td>41.273945</td>\n",
       "      <td>41.273945</td>\n",
       "      <td>0.254196</td>\n",
       "      <td>6.142935e-01</td>\n",
       "    </tr>\n",
       "    <tr>\n",
       "      <th>SibSp</th>\n",
       "      <td>1.0</td>\n",
       "      <td>10877.060044</td>\n",
       "      <td>10877.060044</td>\n",
       "      <td>66.989006</td>\n",
       "      <td>1.273815e-15</td>\n",
       "    </tr>\n",
       "    <tr>\n",
       "      <th>Sex:SibSp</th>\n",
       "      <td>1.0</td>\n",
       "      <td>588.242226</td>\n",
       "      <td>588.242226</td>\n",
       "      <td>3.622832</td>\n",
       "      <td>5.739821e-02</td>\n",
       "    </tr>\n",
       "    <tr>\n",
       "      <th>Pclass:SibSp</th>\n",
       "      <td>1.0</td>\n",
       "      <td>153.255620</td>\n",
       "      <td>153.255620</td>\n",
       "      <td>0.943862</td>\n",
       "      <td>3.316194e-01</td>\n",
       "    </tr>\n",
       "    <tr>\n",
       "      <th>Sex:Pclass:SibSp</th>\n",
       "      <td>1.0</td>\n",
       "      <td>52.636149</td>\n",
       "      <td>52.636149</td>\n",
       "      <td>0.324172</td>\n",
       "      <td>5.692920e-01</td>\n",
       "    </tr>\n",
       "    <tr>\n",
       "      <th>Residual</th>\n",
       "      <td>706.0</td>\n",
       "      <td>114633.800626</td>\n",
       "      <td>162.370822</td>\n",
       "      <td>NaN</td>\n",
       "      <td>NaN</td>\n",
       "    </tr>\n",
       "  </tbody>\n",
       "</table>\n",
       "</div>"
      ],
      "text/plain": [
       "                     df         sum_sq       mean_sq           F        PR(>F)\n",
       "Sex                 1.0    1309.355436   1309.355436    8.063982  4.645287e-03\n",
       "Pclass              1.0   22695.333937  22695.333937  139.774706  1.487321e-29\n",
       "Sex:Pclass          1.0      41.273945     41.273945    0.254196  6.142935e-01\n",
       "SibSp               1.0   10877.060044  10877.060044   66.989006  1.273815e-15\n",
       "Sex:SibSp           1.0     588.242226    588.242226    3.622832  5.739821e-02\n",
       "Pclass:SibSp        1.0     153.255620    153.255620    0.943862  3.316194e-01\n",
       "Sex:Pclass:SibSp    1.0      52.636149     52.636149    0.324172  5.692920e-01\n",
       "Residual          706.0  114633.800626    162.370822         NaN           NaN"
      ]
     },
     "execution_count": 20,
     "metadata": {},
     "output_type": "execute_result"
    }
   ],
   "source": [
    "model = ols('Age ~ Sex * Pclass * SibSp', data=train_df).fit()\n",
    "\n",
    "# Type 1 ANOVA DataFrame\n",
    "table_type_1 = sm.stats.anova_lm(model, typ=1) \n",
    "table_type_1"
   ]
  },
  {
   "cell_type": "markdown",
   "id": "2a72a6d8-8cce-48ab-8ce0-ff1c79404eda",
   "metadata": {},
   "source": [
    "**Results**: From the above table we see that the interactions terms between Sex:Pclass and Pclass:SibSp do a good job at explaining Age.\n",
    "Sex is the standout single variable which explains Age out of the three individual variables. Since Pclass and Sex seem to logically make sense to predict age. I will use those features."
   ]
  },
  {
   "cell_type": "code",
   "execution_count": 21,
   "id": "c9c87621-6656-487a-9a24-6ae5d2ac6b96",
   "metadata": {},
   "outputs": [],
   "source": [
    "# Previous Rule based Age predictor\n",
    "\n",
    "def predict_age_rule_based(df):\n",
    "    null_df = df[df[\"Age\"].isnull()]\n",
    "    print(null_df.shape)\n",
    "    non_null_df = df[~df[\"Age\"].isnull()]\n",
    "    print(non_null_df.shape)\n",
    "    \n",
    "    for (sex, pclass), nn_df in non_null_df.groupby([\"Sex\", \"Pclass\"]):\n",
    "        avg_age = int(np.nanmedian(nn_df[\"Age\"]))\n",
    "        null_df.loc[(null_df[\"Sex\"] == sex) & (null_df[\"Pclass\"] == pclass), \"Age\"] = avg_age\n",
    "        print(f\"Mean age for {sex}:{pclass} = {avg_age:.2f}\")\n",
    "    \n",
    "    return pd.concat([null_df, non_null_df])\n",
    "        "
   ]
  },
  {
   "cell_type": "code",
   "execution_count": 22,
   "id": "41d12ec1-8313-4391-b957-66618ce73293",
   "metadata": {},
   "outputs": [],
   "source": [
    "def convert_to_categorical(df, columns):\n",
    "    \"\"\"\n",
    "    input: dataframe and col list of categorical columns\n",
    "    output: dataframw with numerical values\n",
    "    \"\"\"\n",
    "    df_ = df.copy()\n",
    "    for col in columns:\n",
    "        if df_[col].dtype != \"object\":\n",
    "            print(f\"Skipping column {col} due to dtype\")\n",
    "            continue\n",
    "            \n",
    "        item_list = df_[col].unique().tolist()\n",
    "        enum = enumerate(item_list)\n",
    "        d = dict((j,i) for i,j in enum)\n",
    "        print(col)\n",
    "        print(d)\n",
    "        df_[col].replace(d, inplace=True)\n",
    "        \n",
    "    return df_\n",
    "\n",
    "\n",
    "def predict_age_xgboost(df):\n",
    "    columns = [\"Sex\", \"Embarked\"]\n",
    "\n",
    "    null_df = df[df[\"Age\"].isnull()]\n",
    "    null_df = convert_to_categorical(null_df, columns)\n",
    "    print(\"null_df.shape: \", null_df.shape)\n",
    "    \n",
    "    non_null_df = df[~df[\"Age\"].isnull()]\n",
    "    non_null_df = convert_to_categorical(non_null_df, columns)\n",
    "    print(\"non_null_df.shape: \", non_null_df.shape)\n",
    "    \n",
    "    train_X = non_null_df[[\"Sex\", \"Pclass\", \"SibSp\"]]\n",
    "    train_y = non_null_df[\"Age\"]\n",
    "    test_X = null_df[[\"Sex\", \"Pclass\", \"SibSp\"]]\n",
    "\n",
    "    # Instantiation\n",
    "    xgb_r = xg.XGBRegressor(\n",
    "        n_estimators = 10,\n",
    "        seed = 144\n",
    "    )\n",
    "    # Fitting the model\n",
    "    xgb_r.fit(train_X, train_y)\n",
    "\n",
    "    # Predict the model\n",
    "    pred = xgb_r.predict(test_X)\n",
    "    pred = np.round(pred)\n",
    "    \n",
    "    null_df[\"Age\"] = pred\n",
    "    \n",
    "    full_df = pd.concat([null_df, non_null_df])\n",
    "    \n",
    "    return df.drop(columns=\"Age\").merge(full_df[[\"PassengerId\", \"Age\"]], on=\"PassengerId\")\n"
   ]
  },
  {
   "cell_type": "code",
   "execution_count": 23,
   "id": "d482af19-ffc9-4021-adc0-b2620efa9d58",
   "metadata": {
    "tags": []
   },
   "outputs": [
    {
     "name": "stdout",
     "output_type": "stream",
     "text": [
      "Sex\n",
      "{'male': 0, 'female': 1}\n",
      "Embarked\n",
      "{'Q': 0, 'S': 1, 'C': 2}\n",
      "null_df.shape:  (177, 11)\n",
      "Sex\n",
      "{'male': 0, 'female': 1}\n",
      "Embarked\n",
      "{'S': 0, 'C': 1, 'Q': 2}\n",
      "non_null_df.shape:  (714, 11)\n"
     ]
    },
    {
     "data": {
      "text/plain": [
       "(891, 11)"
      ]
     },
     "execution_count": 23,
     "metadata": {},
     "output_type": "execute_result"
    }
   ],
   "source": [
    "train_df = predict_age_xgboost(train_df)\n",
    "train_df.shape"
   ]
  },
  {
   "cell_type": "code",
   "execution_count": 24,
   "id": "7c938bef-5764-4e33-93c9-33b09590d9bb",
   "metadata": {},
   "outputs": [
    {
     "data": {
      "text/plain": [
       "0"
      ]
     },
     "execution_count": 24,
     "metadata": {},
     "output_type": "execute_result"
    }
   ],
   "source": [
    "train_df[\"Age\"].isnull().sum()"
   ]
  },
  {
   "cell_type": "code",
   "execution_count": 25,
   "id": "593c47b2-864f-49e3-843e-94291f9c3627",
   "metadata": {},
   "outputs": [
    {
     "name": "stdout",
     "output_type": "stream",
     "text": [
      "Saved training data successfully too: data/augmented_train.csv\n"
     ]
    }
   ],
   "source": [
    "# Save augmented train data\n",
    "augumented_training_data = \"data/augmented_train.csv\"\n",
    "train_df.to_csv(augumented_training_data, index=False)\n",
    "print(f\"Saved training data successfully too: {augumented_training_data}\")"
   ]
  },
  {
   "cell_type": "markdown",
   "id": "a02c9fd5-31b5-4aa6-8308-cdab0a7c9022",
   "metadata": {},
   "source": [
    "### Look into test DF"
   ]
  },
  {
   "cell_type": "code",
   "execution_count": 26,
   "id": "4184df2a-682e-4103-8a5d-872871a03ffd",
   "metadata": {},
   "outputs": [
    {
     "name": "stdout",
     "output_type": "stream",
     "text": [
      "<class 'pandas.core.frame.DataFrame'>\n",
      "RangeIndex: 418 entries, 0 to 417\n",
      "Data columns (total 10 columns):\n",
      " #   Column       Non-Null Count  Dtype  \n",
      "---  ------       --------------  -----  \n",
      " 0   PassengerId  418 non-null    int64  \n",
      " 1   Pclass       418 non-null    int64  \n",
      " 2   Name         418 non-null    object \n",
      " 3   Sex          418 non-null    object \n",
      " 4   Age          332 non-null    float64\n",
      " 5   SibSp        418 non-null    int64  \n",
      " 6   Parch        418 non-null    int64  \n",
      " 7   Ticket       418 non-null    object \n",
      " 8   Fare         417 non-null    float64\n",
      " 9   Embarked     418 non-null    object \n",
      "dtypes: float64(2), int64(4), object(4)\n",
      "memory usage: 32.8+ KB\n"
     ]
    }
   ],
   "source": [
    "test_df.info()"
   ]
  },
  {
   "cell_type": "code",
   "execution_count": 27,
   "id": "336882ba-400b-475f-88a7-d9d4f21be90a",
   "metadata": {},
   "outputs": [
    {
     "name": "stdout",
     "output_type": "stream",
     "text": [
      "Sex\n",
      "{'male': 0, 'female': 1}\n",
      "Embarked\n",
      "{'S': 0, 'C': 1, 'Q': 2}\n",
      "null_df.shape:  (86, 10)\n",
      "Sex\n",
      "{'male': 0, 'female': 1}\n",
      "Embarked\n",
      "{'Q': 0, 'S': 1, 'C': 2}\n",
      "non_null_df.shape:  (332, 10)\n"
     ]
    },
    {
     "data": {
      "text/plain": [
       "(418, 10)"
      ]
     },
     "execution_count": 27,
     "metadata": {},
     "output_type": "execute_result"
    }
   ],
   "source": [
    "test_df = predict_age_xgboost(test_df)\n",
    "test_df.shape"
   ]
  },
  {
   "cell_type": "code",
   "execution_count": 28,
   "id": "409efd6d-7324-403b-bb41-86a430ef3faa",
   "metadata": {},
   "outputs": [
    {
     "data": {
      "text/plain": [
       "0"
      ]
     },
     "execution_count": 28,
     "metadata": {},
     "output_type": "execute_result"
    }
   ],
   "source": [
    "test_df[\"Age\"].isnull().sum()"
   ]
  },
  {
   "cell_type": "code",
   "execution_count": 29,
   "id": "ef9c9ce5-36f8-46fc-9b8e-6bc77cd81096",
   "metadata": {},
   "outputs": [
    {
     "name": "stdout",
     "output_type": "stream",
     "text": [
      "Saved training data successfully too: data/augmented_test.csv\n"
     ]
    }
   ],
   "source": [
    "# Save augmented test data\n",
    "\n",
    "augumented_test_data = \"data/augmented_test.csv\"\n",
    "test_df.to_csv(augumented_test_data, index=False)\n",
    "print(f\"Saved training data successfully too: {augumented_test_data}\")"
   ]
  },
  {
   "cell_type": "code",
   "execution_count": 30,
   "id": "8ac26f45-1707-4554-9999-3362e9c92135",
   "metadata": {},
   "outputs": [
    {
     "data": {
      "text/plain": [
       "(418, 10)"
      ]
     },
     "execution_count": 30,
     "metadata": {},
     "output_type": "execute_result"
    }
   ],
   "source": [
    "test_df.shape"
   ]
  }
 ],
 "metadata": {
  "kernelspec": {
   "display_name": "statistical-analysis-3.9.5",
   "language": "python",
   "name": "statistical-analysis-3.9.5"
  },
  "language_info": {
   "codemirror_mode": {
    "name": "ipython",
    "version": 3
   },
   "file_extension": ".py",
   "mimetype": "text/x-python",
   "name": "python",
   "nbconvert_exporter": "python",
   "pygments_lexer": "ipython3",
   "version": "3.8.8"
  }
 },
 "nbformat": 4,
 "nbformat_minor": 5
}
